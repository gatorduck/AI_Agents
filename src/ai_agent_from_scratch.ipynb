{
 "cells": [
  {
   "cell_type": "markdown",
   "id": "f547534c",
   "metadata": {},
   "source": [
    "Lets start with a simple crawl and work our way up to a complex agent.\n",
    "\n",
    "Lets start a project that begins with a simple llm use case that builds on itself and concludes with an AI agent that includes tools, RAG, and fine-tuning with custom decoder transformer."
   ]
  },
  {
   "cell_type": "code",
   "execution_count": 63,
   "id": "ae54e229",
   "metadata": {},
   "outputs": [],
   "source": [
    "import os\n",
    "from langchain.chat_models import init_chat_model\n",
    "from langgraph.graph import StateGraph, START\n",
    "from langgraph.prebuilt import tools_condition, ToolNode\n",
    "from typing_extensions import TypedDict\n",
    "from langchain_tavily import TavilySearch\n",
    "from langgraph.graph import MessagesState\n",
    "from langchain_core.messages import HumanMessage, SystemMessage\n",
    "from IPython.display import Image, display\n",
    "from langgraph.checkpoint.memory import MemorySaver"
   ]
  },
  {
   "cell_type": "markdown",
   "id": "c357c433",
   "metadata": {},
   "source": [
    "# LLM\n",
    "\n",
    "The main workhorse of our REACT agent. This is the brains of our operations. However it is only as good as the data it has been pretrained on."
   ]
  },
  {
   "cell_type": "code",
   "execution_count": 64,
   "id": "97acdb53",
   "metadata": {},
   "outputs": [
    {
     "data": {
      "text/plain": [
       "'Hello! How can I assist you today?'"
      ]
     },
     "execution_count": 64,
     "metadata": {},
     "output_type": "execute_result"
    }
   ],
   "source": [
    "os.environ.get(\"OPENAI_API_KEY\")\n",
    "os.environ.get(\"TAVILY_API_KEY\") # API search engine tool\n",
    "\n",
    "llm = init_chat_model(\n",
    "    model = \"gpt-4o-mini\",\n",
    "    model_provider=\"openai\",\n",
    "    temperature=0,\n",
    "    max_tokens = 50\n",
    ")\n",
    "\n",
    "llm.invoke(\"hello\").content"
   ]
  },
  {
   "cell_type": "markdown",
   "id": "37113d32",
   "metadata": {},
   "source": [
    "One quick way to demonstrate this is by asking what the weather is."
   ]
  },
  {
   "cell_type": "code",
   "execution_count": 65,
   "id": "46b8ad23",
   "metadata": {},
   "outputs": [
    {
     "data": {
      "text/plain": [
       "\"I don't have real-time data access to provide current weather information. To find the latest weather in New York, I recommend checking a reliable weather website or app.\""
      ]
     },
     "execution_count": 65,
     "metadata": {},
     "output_type": "execute_result"
    }
   ],
   "source": [
    "llm.invoke(\"what is the weather in New York?\").content"
   ]
  },
  {
   "cell_type": "markdown",
   "id": "2002f129",
   "metadata": {},
   "source": [
    "# Tools\n",
    "\n",
    "The fun part is giving the llm the ability to use tools. This is helpful for very domain specific task such as using proprietary data or applications. Lets answer our weather question and maybe a simple math problem using tools."
   ]
  },
  {
   "cell_type": "code",
   "execution_count": 66,
   "id": "0d91287b",
   "metadata": {},
   "outputs": [],
   "source": [
    "# tool used to search the web - useful for getting the latest information or data that the model may not have been trained\n",
    "web_search_tool = TavilySearch(max_results=2)"
   ]
  },
  {
   "cell_type": "code",
   "execution_count": 67,
   "id": "dc7b37dd",
   "metadata": {},
   "outputs": [],
   "source": [
    "# second tool is based on our own simple math function used to return the remainder of a division operation\n",
    "\n",
    "def remainder(a: int, b: int) -> int:\n",
    "    \"\"\"returns the remainder of  a divided by b.\n",
    "\n",
    "    Args:\n",
    "        a: first int\n",
    "        b: second int\n",
    "    \"\"\"\n",
    "    return a % b"
   ]
  },
  {
   "cell_type": "markdown",
   "id": "f5506774",
   "metadata": {},
   "source": [
    "Lets bind these tools to our llm."
   ]
  },
  {
   "cell_type": "code",
   "execution_count": 68,
   "id": "81e7a78c",
   "metadata": {},
   "outputs": [],
   "source": [
    "tools = [web_search_tool, remainder]\n",
    "\n",
    "llm_with_tools = llm.bind_tools(tools)"
   ]
  },
  {
   "cell_type": "markdown",
   "id": "f8e76ce5",
   "metadata": {},
   "source": [
    "# Langraph\n",
    "\n",
    "Our goal is to create a chain of events using Langraph as our framework. Each of the steps in our chain is represented by a node. So we will wrap our llm as a function."
   ]
  },
  {
   "cell_type": "code",
   "execution_count": 69,
   "id": "d6273d92",
   "metadata": {},
   "outputs": [],
   "source": [
    "# System message | prompt engineering - assigning a role to the llm\n",
    "sys_msg = SystemMessage(content=\"You are a helpful assistant that can use tools to answer questions. You can search the web and perform simple math operations. Use the tools when necessary.\")\n",
    "\n",
    "# Node - REACT agent\n",
    "def assistant(state: MessagesState):\n",
    "   return {\"messages\": [llm_with_tools.invoke([sys_msg] + state[\"messages\"])]}"
   ]
  },
  {
   "cell_type": "markdown",
   "id": "1e5ca8bd",
   "metadata": {},
   "source": [
    "An important note about MessageState. As you move from node to node our state gets truncated, or think of it as our new data returned over-rides existing data. This data is traditionally a strict dictionary that stores messages in a dictionary. Such as the one below. To instead append data we use MessageState with a built-in default key of message and also a function called add_message, also referred to as a reducer, to append messages as we move from node to node. Note these messages are usually our conversation between AI and human. This state is also referred to as a schema, because it is a strict dictionary used to enforce data types for our messages as we move form node to node."
   ]
  },
  {
   "cell_type": "code",
   "execution_count": 70,
   "id": "b480927e",
   "metadata": {},
   "outputs": [],
   "source": [
    "\n",
    "state = {\"graph_state\": \"\"}\n",
    "\n",
    "# example below is 'similar'\n",
    "\n",
    "class State(TypedDict): # dictionary object with specific keys and types\n",
    "    graph_state: str"
   ]
  },
  {
   "cell_type": "markdown",
   "id": "d5c0ebaa",
   "metadata": {},
   "source": [
    "Lets create our graph using Stategraph, edges and nodes are incorporated to our new object."
   ]
  },
  {
   "cell_type": "code",
   "execution_count": 71,
   "id": "4486a0cb",
   "metadata": {},
   "outputs": [],
   "source": [
    "builder = StateGraph(MessagesState)"
   ]
  },
  {
   "cell_type": "markdown",
   "id": "f9ab02e3",
   "metadata": {},
   "source": [
    "Define the nodes. "
   ]
  },
  {
   "cell_type": "code",
   "execution_count": 72,
   "id": "8a9afa40",
   "metadata": {},
   "outputs": [
    {
     "data": {
      "text/plain": [
       "<langgraph.graph.state.StateGraph at 0x16eb3123160>"
      ]
     },
     "execution_count": 72,
     "metadata": {},
     "output_type": "execute_result"
    }
   ],
   "source": [
    "# Define nodes: these do the work\n",
    "builder.add_node(\"assistant\", assistant)\n",
    "builder.add_node(\"tools\", ToolNode(tools))"
   ]
  },
  {
   "cell_type": "markdown",
   "id": "6f3a8ea4",
   "metadata": {},
   "source": [
    "Lets add edges to connect these nodes."
   ]
  },
  {
   "cell_type": "code",
   "execution_count": 73,
   "id": "7e0785f5",
   "metadata": {},
   "outputs": [
    {
     "data": {
      "text/plain": [
       "<langgraph.graph.state.StateGraph at 0x16eb3123160>"
      ]
     },
     "execution_count": 73,
     "metadata": {},
     "output_type": "execute_result"
    }
   ],
   "source": [
    "builder.add_edge(START, \"assistant\")\n",
    "builder.add_conditional_edges(\"assistant\",  tools_condition)\n",
    "builder.add_edge(\"tools\", \"assistant\") # this edge connects the tools node back to the assistant node to return the results of the tool invocation in natural language format"
   ]
  },
  {
   "cell_type": "markdown",
   "id": "b9cf6bd5",
   "metadata": {},
   "source": [
    "Before we invoke our agent, lets give it some memory so it retains messages across graph executions."
   ]
  },
  {
   "cell_type": "code",
   "execution_count": 74,
   "id": "0fabd986",
   "metadata": {},
   "outputs": [
    {
     "data": {
      "image/png": "[encoded data removed]",
      "text/plain": [
       "<IPython.core.display.Image object>"
      ]
     },
     "metadata": {},
     "output_type": "display_data"
    }
   ],
   "source": [
    "memory = MemorySaver()\n",
    "react_graph_memory = builder.compile(checkpointer=memory)\n",
    "\n",
    "# Specify a thread, is it is used to keep track of the conversation history\n",
    "config = {\"configurable\": {\"thread_id\": \"1\"}}\n",
    "\n",
    "# Show\n",
    "display(Image(react_graph_memory.get_graph(xray=True).draw_mermaid_png()))"
   ]
  },
  {
   "cell_type": "markdown",
   "id": "c6759846",
   "metadata": {},
   "source": [
    "Now lets invoke our agent with a simple question and see how it works."
   ]
  },
  {
   "cell_type": "code",
   "execution_count": 76,
   "id": "011a0df6",
   "metadata": {},
   "outputs": [
    {
     "name": "stdout",
     "output_type": "stream",
     "text": [
      "================================\u001b[1m Human Message \u001b[0m=================================\n",
      "\n",
      "What is the remainder of 10 divided by 3 and what is the weather in New York?\n",
      "==================================\u001b[1m Ai Message \u001b[0m==================================\n",
      "Tool Calls:\n",
      "  remainder (call_p4OO1NHaeOuoLtXruRQO60Lo)\n",
      " Call ID: call_p4OO1NHaeOuoLtXruRQO60Lo\n",
      "  Args:\n",
      "    a: 10\n",
      "    b: 3\n",
      "  tavily_search (call_jQJ6eVJNFTcPvPzZPV1BjSAA)\n",
      " Call ID: call_jQJ6eVJNFTcPvPzZPV1BjSAA\n",
      "  Args:\n",
      "    query: current weather in\n",
      "=================================\u001b[1m Tool Message \u001b[0m=================================\n",
      "Name: remainder\n",
      "\n",
      "1\n",
      "=================================\u001b[1m Tool Message \u001b[0m=================================\n",
      "Name: tavily_search\n",
      "\n",
      "{\"query\": \"current weather in\", \"follow_up_questions\": null, \"answer\": null, \"images\": [], \"results\": [{\"title\": \"Weather in [location]\", \"url\": \"https://www.weatherapi.com/\", \"content\": \"{'location': {'name': \\\"Modjadje's Location\\\", 'region': 'Limpopo', 'country': 'South Africa', 'lat': -23.6167, 'lon': 30.3333, 'tz_id': 'Africa/Johannesburg', 'localtime_epoch': 1751517602, 'localtime': '2025-07-03 06:40'}, 'current': {'last_updated_epoch': 1751517000, 'last_updated': '2025-07-03 06:30', 'temp_c': 10.8, 'temp_f': 51.4, 'is_day': 0, 'condition': {'text': 'Clear', 'icon': '//cdn.weatherapi.com/weather/64x64/night/113.png', 'code': 1000}, 'wind_mph': 4.3, 'wind_kph': 6.8, 'wind_degree': 245, 'wind_dir': 'WSW', 'pressure_mb': 1023.0, 'pressure_in': 30.21, 'precip_mm': 0.0, 'precip_in': 0.0, 'humidity': 54, 'cloud': 7, 'feelslike_c': 10.1, 'feelslike_f': 50.3, 'windchill_c': 10.1, 'windchill_f': 50.3, 'heatindex_c': 10.8, 'heatindex_f': 51.4, 'dewpoint_c': 2.0, 'dewpoint_f': 35.5, 'vis_km': 10.0, 'vis_miles': 6.0, 'uv': 0.0, 'gust_mph': 8.9, 'gust_kph': 14.4}}\", \"score\": 0.9890431, \"raw_content\": null}, {\"title\": \"Friday, March 7, 2025. Charlotte, NC - Weather Forecast\", \"url\": \"https://weathershogun.com/weather/usa/nc/charlotte/3313/march/2025-03-07\", \"content\": \"Charlotte, North Carolina weather forecast for Friday, March 7, 2025. Get the latest on temperature, precipitation, wind speed, and UV. Plan your day with accurate weather updates.\", \"score\": 0.735737, \"raw_content\": null}], \"response_time\": 1.89}\n",
      "==================================\u001b[1m Ai Message \u001b[0m==================================\n",
      "\n",
      "The remainder of 10 divided by 3 is **1**.\n",
      "\n",
      "As for the weather in New York, I couldn't retrieve the current weather details directly. However, you can check the latest weather updates on [WeatherAPI](https://www.weather\n",
      "================================\u001b[1m Human Message \u001b[0m=================================\n",
      "\n",
      "What is the remainder of 10 divided by 3 and what is the weather in Dallas, TX?\n",
      "==================================\u001b[1m Ai Message \u001b[0m==================================\n",
      "Tool Calls:\n",
      "  remainder (call_PfJxdtMEbq0O2lbdvgjr0MUY)\n",
      " Call ID: call_PfJxdtMEbq0O2lbdvgjr0MUY\n",
      "  Args:\n",
      "    a: 10\n",
      "    b: 3\n",
      "  tavily_search (call_0Q5bPI7Zu4XvmD4vfp4Dyt0i)\n",
      " Call ID: call_0Q5bPI7Zu4XvmD4vfp4Dyt0i\n",
      "  Args:\n",
      "    query: current weather in\n",
      "=================================\u001b[1m Tool Message \u001b[0m=================================\n",
      "Name: remainder\n",
      "\n",
      "1\n",
      "=================================\u001b[1m Tool Message \u001b[0m=================================\n",
      "Name: tavily_search\n",
      "\n",
      "{\"query\": \"current weather in\", \"follow_up_questions\": null, \"answer\": null, \"images\": [], \"results\": [{\"title\": \"Weather in New York\", \"url\": \"https://www.weatherapi.com/\", \"content\": \"{'location': {'name': 'New York', 'region': 'New York', 'country': 'United States of America', 'lat': 40.7142, 'lon': -74.0064, 'tz_id': 'America/New_York', 'localtime_epoch': 1751518207, 'localtime': '2025-07-03 00:50'}, 'current': {'last_updated_epoch': 1751517900, 'last_updated': '2025-07-03 00:45', 'temp_c': 23.9, 'temp_f': 75.0, 'is_day': 0, 'condition': {'text': 'Fog', 'icon': '//cdn.weatherapi.com/weather/64x64/night/248.png', 'code': 1135}, 'wind_mph': 4.5, 'wind_kph': 7.2, 'wind_degree': 291, 'wind_dir': 'WNW', 'pressure_mb': 1012.0, 'pressure_in': 29.87, 'precip_mm': 0.0, 'precip_in': 0.0, 'humidity': 84, 'cloud': 25, 'feelslike_c': 26.7, 'feelslike_f': 80.0, 'windchill_c': 23.3, 'windchill_f': 74.0, 'heatindex_c': 25.9, 'heatindex_f': 78.6, 'dewpoint_c': 23.0, 'dewpoint_f': 73.4, 'vis_km': 16.0, 'vis_miles': 9.0, 'uv': 0.0, 'gust_mph': 7.5, 'gust_kph': 12.1}}\", \"score\": 0.9969363, \"raw_content\": null}, {\"title\": \"Weather in March 2025 in New York, New York, USA - timeanddate.com\", \"url\": \"https://www.timeanddate.com/weather/usa/new-york/historic?month=3&year=2025\", \"content\": \"Weather reports from March 2025 in New York, New York, USA with highs and lows\", \"score\": 0.98595, \"raw_content\": null}], \"response_time\": 2.22}\n",
      "==================================\u001b[1m Ai Message \u001b[0m==================================\n",
      "Tool Calls:\n",
      "  tavily_search (call_u0obDh0WRVssnYpYVmU38ttT)\n",
      " Call ID: call_u0obDh0WRVssnYpYVmU38ttT\n",
      "  Args:\n",
      "    query: current weather in Dallas, TX\n",
      "=================================\u001b[1m Tool Message \u001b[0m=================================\n",
      "Name: tavily_search\n",
      "\n",
      "{\"query\": \"current weather in Dallas, TX\", \"follow_up_questions\": null, \"answer\": null, \"images\": [], \"results\": [{\"title\": \"Weather in Dallas, TX\", \"url\": \"https://www.weatherapi.com/\", \"content\": \"{'location': {'name': 'Dallas', 'region': 'Texas', 'country': 'United States of America', 'lat': 32.7833, 'lon': -96.8, 'tz_id': 'America/Chicago', 'localtime_epoch': 1751517417, 'localtime': '2025-07-02 23:36'}, 'current': {'last_updated_epoch': 1751517000, 'last_updated': '2025-07-02 23:30', 'temp_c': 28.3, 'temp_f': 82.9, 'is_day': 0, 'condition': {'text': 'Overcast', 'icon': '//cdn.weatherapi.com/weather/64x64/night/122.png', 'code': 1009}, 'wind_mph': 3.4, 'wind_kph': 5.4, 'wind_degree': 46, 'wind_dir': 'NE', 'pressure_mb': 1016.0, 'pressure_in': 29.99, 'precip_mm': 0.0, 'precip_in': 0.0, 'humidity': 70, 'cloud': 100, 'feelslike_c': 30.0, 'feelslike_f': 86.0, 'windchill_c': 31.8, 'windchill_f': 89.2, 'heatindex_c': 36.2, 'heatindex_f': 97.2, 'dewpoint_c': 22.7, 'dewpoint_f': 72.8, 'vis_km': 16.0, 'vis_miles': 9.0, 'uv': 0.0, 'gust_mph': 4.3, 'gust_kph': 7.0}}\", \"score\": 0.9618823, \"raw_content\": null}, {\"title\": \"Dallas March 2025 Historical Weather Data (Texas, United States ...\", \"url\": \"https://weatherspark.com/h/m/8813/2025/3/Historical-Weather-in-March-2025-in-Dallas-Texas-United-States\", \"content\": \"March 2025 Weather History in Dallas Texas, United States The data for this report comes from the Dallas Love Field. See all nearby weather stations This report shows the past weather for Dallas, providing a weather history for March 2025.\", \"score\": 0.6490677, \"raw_content\": null}], \"response_time\": 2.31}\n",
      "==================================\u001b[1m Ai Message \u001b[0m==================================\n",
      "\n",
      "The remainder of 10 divided by 3 is **1**.\n",
      "\n",
      "As for the current weather in Dallas, TX:\n",
      "- **Temperature**: 28.3°C (82.9°F)\n",
      "- **Condition**: Overcast\n",
      "-\n"
     ]
    }
   ],
   "source": [
    "# Specify an input\n",
    "messages = [HumanMessage(content=\"What is the remainder of 10 divided by 3 and what is the weather in Dallas, TX?\")]\n",
    "\n",
    "# Run\n",
    "messages = react_graph_memory.invoke({\"messages\": messages},config)\n",
    "for m in messages['messages']:\n",
    "    m.pretty_print()"
   ]
  }
 ],
 "metadata": {
  "kernelspec": {
   "display_name": "Python 3",
   "language": "python",
   "name": "python3"
  },
  "language_info": {
   "codemirror_mode": {
    "name": "ipython",
    "version": 3
   },
   "file_extension": ".py",
   "mimetype": "text/x-python",
   "name": "python",
   "nbconvert_exporter": "python",
   "pygments_lexer": "ipython3",
   "version": "3.10.5"
  }
 },
 "nbformat": 4,
 "nbformat_minor": 5
}
