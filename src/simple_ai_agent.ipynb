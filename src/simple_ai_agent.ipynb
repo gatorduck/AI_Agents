{
 "cells": [
  {
   "cell_type": "markdown",
   "id": "415f445a",
   "metadata": {},
   "source": [
    "# 1 - Creating a simple AI agent\n",
    "\n",
    "Lets start with a simple crawl and work our way up to a complex agent.\n",
    "\n",
    "Lets start a project that begins with a simple llm use case that builds on itself and concludes with an AI agent that includes tools, RAG, and fine-tuning with transformer."
   ]
  },
  {
   "cell_type": "code",
   "execution_count": 3,
   "id": "0f6ea726",
   "metadata": {},
   "outputs": [],
   "source": [
    "from langchain.chat_models import init_chat_model\n",
    "from langgraph.prebuilt import create_react_agent\n",
    "import os"
   ]
  },
  {
   "cell_type": "markdown",
   "id": "3a1ee6ff",
   "metadata": {},
   "source": [
    "For our example we will use openai for our llm backbone."
   ]
  },
  {
   "cell_type": "code",
   "execution_count": 4,
   "id": "69e03771",
   "metadata": {},
   "outputs": [],
   "source": [
    "os.environ.get(\"OPENAI_API_KEY\")\n",
    "\n",
    "llm = init_chat_model(\n",
    "    model = \"gpt-4o-mini\",\n",
    "    model_provider=\"openai\",\n",
    "    temperature=0,\n",
    "    max_tokens = 10\n",
    ")"
   ]
  },
  {
   "cell_type": "markdown",
   "id": "ab459809",
   "metadata": {},
   "source": [
    "Lets create our agent and invoke it. Our response is less than favorable, womp womp. This is because llm are taught on historical data and don't necesarrily have a live feed (API) to new data."
   ]
  },
  {
   "cell_type": "code",
   "execution_count": 8,
   "id": "8a068a07",
   "metadata": {},
   "outputs": [
    {
     "data": {
      "text/plain": [
       "\"I'm unable to provide real-time weather updates. To\""
      ]
     },
     "execution_count": 8,
     "metadata": {},
     "output_type": "execute_result"
    }
   ],
   "source": [
    "agent = create_react_agent(\n",
    "    model = llm,\n",
    "    tools = [],\n",
    "    prompt = 'You are a helpful assistant' # static prompt also referred to system message\n",
    ")\n",
    "\n",
    "response = agent.invoke(\n",
    "    {\"messages\": [{\"role\": \"user\", \"content\": \"what is the weather like today in Dallas?\"}]}\n",
    ")\n",
    "\n",
    "response['messages'][-1].content"
   ]
  }
 ],
 "metadata": {
  "kernelspec": {
   "display_name": "Python 3",
   "language": "python",
   "name": "python3"
  },
  "language_info": {
   "codemirror_mode": {
    "name": "ipython",
    "version": 3
   },
   "file_extension": ".py",
   "mimetype": "text/x-python",
   "name": "python",
   "nbconvert_exporter": "python",
   "pygments_lexer": "ipython3",
   "version": "3.10.5"
  }
 },
 "nbformat": 4,
 "nbformat_minor": 5
}
